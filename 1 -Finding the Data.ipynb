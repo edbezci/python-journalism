{
 "cells": [
  {
   "cell_type": "markdown",
   "metadata": {},
   "source": [
    "# Finding the Data\n",
    "\n",
    "We need to install [nytimesarticle](https://pypi.org/project/nytimesarticle/0.1.0/) package. We can do this by intering using ! in the beginning of a cell to directly access to the system terminal. Using exclamation mark is an easy way to access system terminal and install required packages as well undertake other work such as finding paths for working directory or other files.\n",
    "```\n",
    "!pip install nytimesarticle==0.1.0\n",
    "```\n",
    "After installing the package, we can start to send queries to retrive data. First we need to import api function from nytimes article module."
   ]
  },
  {
   "cell_type": "code",
   "execution_count": 4,
   "metadata": {
    "collapsed": false
   },
   "outputs": [],
   "source": [
    "from nytimesarticle import articleAPI"
   ]
  },
  {
   "cell_type": "markdown",
   "metadata": {
    "collapsed": true
   },
   "source": [
    "We need to use the key and secret tokens from the New York Times application that we earlier created. In order to not to show your secret and key, it is a good practice to save them as in a different python file. Then  we can import that here and attacht to variables to prevent exposure. I save mine in a file called __'nyt_token.py'__. Using the code below, I __import__ key and secret string objects __from__ nyt_token module that I created.\n",
    "\n",
    "In Python there are various ways to __import__ a module, here are some examples.\n",
    "\n",
    "```Python\n",
    "import module #method 1\n",
    "from module import something #method 2\n",
    "from module import * #method 3 imports all\n",
    "```\n",
    "If you use the first method, later you need to use the syntax below by first calling the module name then the function/variable name later on:\n",
    "```Python\n",
    "x = module.function_name() #if you use the first method\n",
    "```\n",
    "Otherwise, you can just call the method/variable from that module by its name. Here, we use the second method to import a variable from a module since there will not be any other variables with the same name that might cause bugs.\n",
    "\n",
    "After importing the key and secret, we will create an instance of the ArticleAPI object by passing our individual key as a parameter.\n"
   ]
  },
  {
   "cell_type": "code",
   "execution_count": 1,
   "metadata": {
    "collapsed": true
   },
   "outputs": [],
   "source": [
    "from nyt_token import key, secret"
   ]
  },
  {
   "cell_type": "code",
   "execution_count": 5,
   "metadata": {
    "collapsed": false
   },
   "outputs": [],
   "source": [
    "api = articleAPI(key)"
   ]
  },
  {
   "cell_type": "markdown",
   "metadata": {},
   "source": [
    "Since we created an instance of _the articleAPI_ object, we are now ready find the data we are looking for. It is always a good practice to refer to the official documentation to find out what parametres we can pass, and what kind of data we can retrive. You can reach the official documentation of Search API [here!](https://developer.nytimes.com/docs/articlesearch-product/1/overview) After reading through the documentation, we have a better understanding of the parameters we want to use."
   ]
  }
 ],
 "metadata": {
  "kernelspec": {
   "display_name": "Python 3",
   "language": "python",
   "name": "python3"
  },
  "language_info": {
   "codemirror_mode": {
    "name": "ipython",
    "version": 3
   },
   "file_extension": ".py",
   "mimetype": "text/x-python",
   "name": "python",
   "nbconvert_exporter": "python",
   "pygments_lexer": "ipython3",
   "version": "3.5.3"
  }
 },
 "nbformat": 4,
 "nbformat_minor": 2
}
