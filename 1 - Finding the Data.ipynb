{
 "cells": [
  {
   "cell_type": "markdown",
   "metadata": {},
   "source": [
    "# Finding the Data\n",
    "\n",
    "We need to install [newsapi-python](https://github.com/mattlisiv/newsapi-python) package. We can do this by intering using ! in the beginning of a cell to directly access to the system terminal. Using exclamation mark is an easy way to access system terminal and install required packages as well undertake other work such as finding paths for working directory or other files.\n",
    "```\n",
    "$ pip install newsapi-python\n",
    "```\n",
    "After installing the package, we can start to send queries to retrive data. First we need to import NewsApiClient from  _newsapi_ module."
   ]
  },
  {
   "cell_type": "code",
   "execution_count": 1,
   "metadata": {
    "collapsed": false
   },
   "outputs": [],
   "source": [
    "from newsapi import NewsApiClient"
   ]
  },
  {
   "cell_type": "markdown",
   "metadata": {
    "collapsed": true
   },
   "source": [
    "We need to use the key from the News Api application that we earlier created. In order to not to show your secret and key, it is a good practice to save them as in a different python file. Then  we can import that here and attacht to variables to prevent exposure. I save mine in a file called __'nws_token.py'__. Using the code below, I __import__ key and secret string objects __from__ nws_token module that I created.\n",
    "\n",
    "In Python there are various ways to __import__ a module, here are some examples.\n",
    "\n",
    "```Python\n",
    "import module #method 1\n",
    "from module import something #method 2\n",
    "from module import * #method 3 imports all\n",
    "```\n",
    "If you use the first method, later you need to use the syntax below by first calling the module name then the function/variable name later on:\n",
    "```Python\n",
    "x = module.function_name() #if you use the first method\n",
    "```\n",
    "Otherwise, you can just call the method/variable from that module by its name. Here, we use the second method to import a variable from a module since there will not be any other variables with the same name that might cause bugs.\n",
    "\n",
    "After importing the key, we will create an instance of the NewsApiClient object by passing our individual key as a parameter.\n"
   ]
  },
  {
   "cell_type": "code",
   "execution_count": 2,
   "metadata": {
    "collapsed": true
   },
   "outputs": [],
   "source": [
    "from nws_token import key"
   ]
  },
  {
   "cell_type": "code",
   "execution_count": 3,
   "metadata": {
    "collapsed": false
   },
   "outputs": [],
   "source": [
    "api = NewsApiClient(api_key=key)"
   ]
  },
  {
   "cell_type": "markdown",
   "metadata": {},
   "source": [
    "Since we created an instance of _NewsApiClient_ object, we are now ready find the data we are looking for. It is always a good practice to refer to the official documentation to find out what parametres we can pass, and what kind of data we can retrive. You can reach the official documentation of News API [here!](https://newsapi.org/docs) After reading through the documentation, we have a better understanding of the parameters we want to use. \n",
    "\n",
    "Now, let's try to retrive all 100 most recent news articles mentioning 2020 Taiwan Presidential Elections and save all into a __dictionary__ object called _articles_. \n"
   ]
  },
  {
   "cell_type": "code",
   "execution_count": 60,
   "metadata": {
    "collapsed": false
   },
   "outputs": [],
   "source": [
    "articles = {}\n",
    "for i in range(1,6):\n",
    "    articles.update({'page'+str(i): (api.get_everything(q='Taiwan AND Elections', \n",
    "                                                        language= 'en', page = i))})"
   ]
  },
  {
   "cell_type": "markdown",
   "metadata": {},
   "source": [
    "All the information of the articles are now saved in our dictionary object called _articles_. It has a nested data structure that the iteration above saved every 20 articles for each page. As it stands, _articles_ does not have much use for us. It is complex, hard to read data object with numerous information for each article(i.e. date posted, author, source, abstract, full content,). If you want to take a look just run this code in an empty cell:\n",
    "```Python\n",
    "print(articles)\n",
    "```\n",
    "Looks complex and hard to read! As an example, let's take a look at the data on one article."
   ]
  },
  {
   "cell_type": "code",
   "execution_count": 78,
   "metadata": {
    "collapsed": false
   },
   "outputs": [
    {
     "name": "stdout",
     "output_type": "stream",
     "text": [
      "{'description': 'Wang \"William\" Liqiang claims to have information on operations in Hong Kong and Taiwan, reports say.', 'publishedAt': '2019-11-23T09:11:26Z', 'urlToImage': 'https://ichef.bbci.co.uk/news/1024/branded_news/E40B/production/_109797385_gettyimages-113172073.jpg', 'url': 'https://www.bbc.co.uk/news/world-australia-50528831', 'content': 'Image copyrightGetty ImagesImage caption\\r\\n Tensions have risen in recent months between Australia and China\\r\\nA man claiming to be a Chinese spy has applied for asylum in Australia, media reports say.\\r\\nWang \"William\" Liqiang has reportedly given authorities in… [+2658 chars]', 'source': {'id': 'bbc-news', 'name': 'BBC News'}, 'author': 'https://www.facebook.com/bbcnews', 'title': \"'Chinese spy' seeking asylum in Australia - reports\"}\n"
     ]
    }
   ],
   "source": [
    "print(articles['page1']['articles'][0])"
   ]
  },
  {
   "cell_type": "markdown",
   "metadata": {},
   "source": [
    "__It is still complicated but gives a better view on the available data. Given that we have 100 of such a data, we need to manipulate and filter these information into a more useful form.__\n"
   ]
  },
  {
   "cell_type": "markdown",
   "metadata": {},
   "source": [
    "- __[Previous: Setting the Scene](0 - Setting the Scene.ipynb)__"
   ]
  }
 ],
 "metadata": {
  "kernelspec": {
   "display_name": "Python 3",
   "language": "python",
   "name": "python3"
  },
  "language_info": {
   "codemirror_mode": {
    "name": "ipython",
    "version": 3
   },
   "file_extension": ".py",
   "mimetype": "text/x-python",
   "name": "python",
   "nbconvert_exporter": "python",
   "pygments_lexer": "ipython3",
   "version": "3.5.3"
  }
 },
 "nbformat": 4,
 "nbformat_minor": 2
}
