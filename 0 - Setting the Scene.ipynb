{
 "cells": [
  {
   "cell_type": "markdown",
   "metadata": {},
   "source": [
    "# What is Python? \n",
    "\n",
    "<img src=\"images/pylogo.png\" style=\"width: 150px\" align=\"left\"/> Python is an open-source object-oriented programming language created by Guido van Rossum back in 1991. Python applications are not limited to data analysis or other scientific projects. You can use this dynamic programming language to create games, web applications, and even to control space shuttles. \n",
    "\n",
    "As a fun fact, popular applications such as Instagram use Python for their codes. \n",
    "\n",
    "\n",
    "\n",
    "\n",
    "## Python 2.x vs. Python 3.x\n",
    "There are two distinct versions of Python language. They are 2.x and 3.x. Both version have different syntaxes that can make code compatibility difficult across versions. However, if you are just beginning to use Python it is recommended to start with the 3.x version since the support for 2.x will end in 2020. Also for this workshop we will use Python 3.x. \n",
    "\n",
    "## How to install Python?\n",
    "\n",
    "It is pretty easy to install Python. Indeed, if you are using a Linux distribution, Python is likely to be already existing in your computer. Please check its version typing this command in your terminal:\n",
    "\n",
    "```\n",
    "python --version\n",
    "```\n",
    "\n",
    "Please keep in mind that, regardless of default, if any existing Python installation is in your computer, <i><b> Anaconda </b></i> will also setup the required packages, therefore, it is recommended. We will be using an Interactive Python (IPython) environment known as <i> Jupyter Notebook </i>. Jupyter Notebook comes with <b> Anaconda </b> as well.\n",
    "<img src=\"images/packages.png\" style=\"width: 450px\" align=\"middle\"/>\n",
    "\n",
    "For the purpose of this graduate level workshop, it is recommended that you install <i><b> Anaconda </b></i>, the most frequented and free data science platform including Python, R and most of the necessary packages associated with that.\n",
    "\n",
    "Installing <i><b> Anaconda </b></i> is pretty easy. [Please visit this link to install Anaconda for Python 3.7](https://www.anaconda.com/distribution/)\n",
    "\n",
    "\n"
   ]
  },
  {
   "cell_type": "markdown",
   "metadata": {
    "collapsed": true
   },
   "source": [
    "## Setting Up the User Acount for the News API\n",
    "\n",
    "\n",
    "This workshop introduces you to use Python for text analysis. Our Emprical case investigates the representation of Taiwan Elections and related subjects in the recent English language news. In order to do so, we will need to use News Application Programming Interface. [Please visit this link to create a free developer account for your use during the workshop.](https://newsapi.org/)\n",
    "\n",
    "__After completing the steps above you are ready to dive into the wonders of data journalism with Python!__ "
   ]
  },
  {
   "cell_type": "markdown",
   "metadata": {
    "collapsed": true
   },
   "source": [
    "# Creating An Application\n",
    "\n",
    "In this workshop we will analyze how Taiwan election is recently displayed and discussed in the mainstream English newspapers and magazines. In order to do so we will conduct a computational text analysis of the English news articles on Taiwan politics over the last month.\n",
    "\n",
    "## Setting up the application\n",
    "\n",
    "After signing up for a developer account in News API, we need to create retrive our key.\n",
    "\n",
    "<img src=\"images/news-api.gif\" style=\"width: 450px\" align=\"middle\" /> \n",
    " \n",
    "\n",
    "__After you sign up, you will be given a key token. Do not share it with the others!__\n",
    "\n",
    "## Installing required Packages\n",
    "\n",
    "You need to install some other required packages for this workshop. __Remember you must already have Anaconda and Python installed in your system to complete this step. If you have not installed Python, please see the previous section to remember how to do so!__\n",
    "\n",
    "In order to install some additional packages you can use either the Anaconda user interface or PyPI (Python Package Index - pip).\n",
    "It is pretty straight forward to install new packages with pip. For instance, in order to install the Natural Language Toolkit, you just need to type this code in your terminal:\n",
    "```\n",
    "pip install nltk\n",
    "```\n",
    "\n",
    "You can check the default version of Python in your operation system:\n",
    "\n",
    "```\n",
    "python --version\n",
    "Python 2.7.13\n",
    "```\n",
    "\n",
    "If the default version is Python 2.x, you can use this command below to install with pip:\n",
    "\n",
    "```\n",
    "pip3 install nltk\n",
    "```\n",
    "If you are using Windows instead of Mac or Linux, you can use the same commands in the Windows Command Prompt. \n",
    "\n",
    "__We will again go through the process of how to install packages once we require them during the workshop!__\n",
    "\n"
   ]
  },
  {
   "cell_type": "markdown",
   "metadata": {},
   "source": [
    "__[Next: Finding the Data](1 - Finding the Data.ipynb)__"
   ]
  }
 ],
 "metadata": {
  "kernelspec": {
   "display_name": "Python 3",
   "language": "python",
   "name": "python3"
  },
  "language_info": {
   "codemirror_mode": {
    "name": "ipython",
    "version": 3
   },
   "file_extension": ".py",
   "mimetype": "text/x-python",
   "name": "python",
   "nbconvert_exporter": "python",
   "pygments_lexer": "ipython3",
   "version": "3.5.3"
  }
 },
 "nbformat": 4,
 "nbformat_minor": 2
}
