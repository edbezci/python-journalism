{
 "cells": [
  {
   "cell_type": "markdown",
   "metadata": {},
   "source": [
    "# What is Python? \n",
    "\n",
    "<img src=\"images/pylogo.png\" style=\"width: 150px\" align=\"left\"/> Python is an open-source object-oriented programming language created by Guido van Rossum back in 1991. Python applications is not limited to data analysis or other scientific projects. You can use this dynamic programming language to create games, web applications, and even to control space shuttles. \n",
    "\n",
    "As a fun, fact popular applications such as Instagram use Python for their codes. \n",
    "\n",
    "\n",
    "\n",
    "\n",
    "## Python 2.x vs. Python 3.x\n",
    "There are two distinct versions of Python language. They are 2.x and 3.x. Both version have different syntax that can make code compatibility difficult across versions. However, if you are just begining to Python it is recommended to start with 3.x version since the support for 2.x will end in 2020. Also for this workshop we will use Python 3.x. \n",
    "\n",
    "## How to install Python?\n",
    "\n",
    "It is pretty easy to install Python. Indeed, if you are using a Linux distribution, Python is likely to be already existing in your computer. Please check its version typing this command in your terminal:\n",
    "\n",
    "```bash\n",
    "$ python --version\n",
    "```\n",
    "\n",
    "Please keep in mind that, regardless of default, if any, existing Python installation in your computer, <i><b> Anaconda </b></i> will also setup the required packages, therefore, it is recommended. We will be using Interactive Python (IPython) environment known as <i> Jupyter Notebook </i>. Jupyter Notebook comes with <b> Anaconda </b> as well.\n",
    "<img src=\"images/packages.png\" style=\"width: 450px\" align=\"middle\"/>\n",
    "\n",
    "For the purpose of this graduate level workshop, it is recommended that you install <i><b> Anaconda </b></i>, the most frequented and free data science platform including Python, R and most of the necessary packages associated with that.\n",
    "\n",
    "Installing <i><b> Anaconda </b></i> is pretty easy. [Please visit this link to install Anaconda for Python 3.7](https://www.anaconda.com/distribution/)\n",
    "\n",
    "\n"
   ]
  },
  {
   "cell_type": "markdown",
   "metadata": {
    "collapsed": true
   },
   "source": [
    "## Setting Up the User Acount for the New York Times API\n",
    "\n",
    "\n",
    "This workshop introduces you to use Python for text analysis. Our Emprical case investigates the representation of Taiwan Elections in New York Times. In order to do so, we will need to use New York Times Application Programming Interface (API). [Please visit this link to create a free developer account for your use in during the workshop.](https://developer.nytimes.com/accounts/create)\n",
    "\n",
    "__After completing the steps above you are ready to dive into the wonders of data journalism with Python!__ "
   ]
  },
  {
   "cell_type": "code",
   "execution_count": null,
   "metadata": {
    "collapsed": true
   },
   "outputs": [],
   "source": []
  }
 ],
 "metadata": {
  "kernelspec": {
   "display_name": "Python 3",
   "language": "python",
   "name": "python3"
  },
  "language_info": {
   "codemirror_mode": {
    "name": "ipython",
    "version": 3
   },
   "file_extension": ".py",
   "mimetype": "text/x-python",
   "name": "python",
   "nbconvert_exporter": "python",
   "pygments_lexer": "ipython3",
   "version": "3.5.3"
  }
 },
 "nbformat": 4,
 "nbformat_minor": 2
}
